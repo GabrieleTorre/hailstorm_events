{
 "cells": [
  {
   "cell_type": "code",
   "execution_count": null,
   "id": "67c06464",
   "metadata": {},
   "outputs": [],
   "source": [
    "from tiff_utils import *\n",
    "\n",
    "from collections import OrderedDict\n",
    "from shapely.ops import transform\n",
    "import pandas as pd\n",
    "import numpy as np\n",
    "import shapely.wkt\n",
    "import geopandas"
   ]
  },
  {
   "cell_type": "code",
   "execution_count": null,
   "id": "ba5da8c1",
   "metadata": {},
   "outputs": [],
   "source": [
    "hail_data = pd.read_csv('../large_hail_events.csv').drop(columns='Unnamed: 0').set_index('id')"
   ]
  },
  {
   "cell_type": "code",
   "execution_count": null,
   "id": "7a6153cb",
   "metadata": {},
   "outputs": [],
   "source": [
    "hail_data['cm'] = hail_data.max_hail_diameter.str.split().apply(lambda x: int(x[0]) if isinstance(x, list) else x).fillna(0)"
   ]
  },
  {
   "cell_type": "code",
   "execution_count": null,
   "id": "dd71908f",
   "metadata": {},
   "outputs": [],
   "source": [
    "my_points = [\n",
    "    (45.10, 10.98),\n",
    "    (45.10, 11.14),\n",
    "    (44.99, 11.14),\n",
    "    (44.99, 10.98)\n",
    "]"
   ]
  },
  {
   "cell_type": "code",
   "execution_count": null,
   "id": "8e55199f",
   "metadata": {},
   "outputs": [],
   "source": [
    "hail_data[(hail_data.latitude <= my_points[0][0]) &\n",
    "          (hail_data.latitude >= my_points[2][0]) &\n",
    "          (hail_data.longitude >= my_points[0][1]) &\n",
    "          (hail_data.longitude <= my_points[2][1])].sort_values('cm', ascending=False).head(10)"
   ]
  },
  {
   "cell_type": "raw",
   "id": "68c90d51",
   "metadata": {},
   "source": []
  },
  {
   "cell_type": "code",
   "execution_count": null,
   "id": "850a3478",
   "metadata": {},
   "outputs": [],
   "source": [
    "# Copernicus hub likes polygons in lng/lat format\n",
    "mygeojson = geopandas.GeoSeries([get_test_polygon(my_points, swap_coordinates=True)]).__geo_interface__"
   ]
  },
  {
   "cell_type": "code",
   "execution_count": null,
   "id": "c236a0cd",
   "metadata": {},
   "outputs": [],
   "source": [
    "# connect to the API\n",
    "from sentinelsat import SentinelAPI, geojson_to_wkt\n",
    "from datetime import date\n",
    "\n",
    "api = SentinelAPI('pipporusso', 'pipporusso89', 'https://scihub.copernicus.eu/dhus')"
   ]
  },
  {
   "cell_type": "code",
   "execution_count": null,
   "id": "6713f94b",
   "metadata": {},
   "outputs": [],
   "source": [
    "# download single scene by known product id\n",
    "# api.download(<product_id>)\n",
    "\n",
    "# search by polygon, time, and SciHub query keywords\n",
    "footprint = geojson_to_wkt(mygeojson)\n",
    "products = api.query(footprint,\n",
    "                     # date=(date(2022, 5, 1), date(2022, 8, 20)),\n",
    "                     date=(date(2021, 5, 1), date(2021, 8, 20)),\n",
    "                     platformname='Sentinel-2',\n",
    "                     processinglevel='Level-2A',\n",
    "                     cloudcoverpercentage=(0, 30))"
   ]
  },
  {
   "cell_type": "code",
   "execution_count": null,
   "id": "4277b2b3",
   "metadata": {},
   "outputs": [],
   "source": [
    "my_poly = get_test_polygon(my_points)"
   ]
  },
  {
   "cell_type": "code",
   "execution_count": null,
   "id": "0025a51b",
   "metadata": {},
   "outputs": [],
   "source": [
    "filtered = OrderedDict()\n",
    "for pr in products.items():\n",
    "    footprint = pr[1]['footprint']\n",
    "    P = shapely.wkt.loads(footprint)       # convert string to Polygon\n",
    "    P = transform(lambda x, y: (y, x), P)  # swap coordinates\n",
    "    if my_poly.difference(P).is_empty:\n",
    "        filtered[pr[0]] = pr[1]\n",
    "        try:\n",
    "            # if document is not online raise exception (but starts the upload request)\n",
    "            api.download(pr[0], directory_path='/Users/beppe/Projects/AgriTech/Sentinel-2/2021')\n",
    "        except:\n",
    "            print(pr[0])\n",
    "            continue"
   ]
  },
  {
   "cell_type": "code",
   "execution_count": null,
   "id": "51401c32",
   "metadata": {},
   "outputs": [],
   "source": []
  },
  {
   "cell_type": "code",
   "execution_count": null,
   "id": "3329ba9c",
   "metadata": {},
   "outputs": [],
   "source": []
  }
 ],
 "metadata": {
  "kernelspec": {
   "display_name": "Python 3 (ipykernel)",
   "language": "python",
   "name": "python3"
  },
  "language_info": {
   "codemirror_mode": {
    "name": "ipython",
    "version": 3
   },
   "file_extension": ".py",
   "mimetype": "text/x-python",
   "name": "python",
   "nbconvert_exporter": "python",
   "pygments_lexer": "ipython3",
   "version": "3.9.13"
  }
 },
 "nbformat": 4,
 "nbformat_minor": 5
}
