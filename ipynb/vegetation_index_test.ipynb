{
 "cells": [
  {
   "cell_type": "code",
   "execution_count": null,
   "id": "1008cb64",
   "metadata": {},
   "outputs": [],
   "source": [
    "from vegetation_index import *\n",
    "from tiff_utils import *\n",
    "\n",
    "from shapely.ops import transform\n",
    "from rasterio.plot import show\n",
    "from skimage import exposure\n",
    "from glob import glob\n",
    "import numpy as np\n",
    "import rasterio\n",
    "\n",
    "import matplotlib.pyplot as plt"
   ]
  },
  {
   "cell_type": "code",
   "execution_count": null,
   "id": "937c3e2d",
   "metadata": {},
   "outputs": [],
   "source": [
    "tiff_root_data_dir = '/Users/beppe/Projects/AgriTech/TiffData/2022'"
   ]
  },
  {
   "cell_type": "code",
   "execution_count": null,
   "id": "506d8e61",
   "metadata": {},
   "outputs": [],
   "source": [
    "tiff_list = glob(tiff_root_data_dir + '/*')\n",
    "tiff_list"
   ]
  },
  {
   "cell_type": "code",
   "execution_count": null,
   "id": "f191618a",
   "metadata": {},
   "outputs": [],
   "source": [
    "image = rgb_from_tiff(tiff_list[7])"
   ]
  },
  {
   "cell_type": "code",
   "execution_count": null,
   "id": "1b1ab788",
   "metadata": {},
   "outputs": [],
   "source": [
    "fig, ax = plt.subplots(1, figsize=(10, 8))\n",
    "show(image, ax=ax, cmap='coolwarm_r')\n",
    "plt.show()"
   ]
  },
  {
   "cell_type": "raw",
   "id": "42ed5b42",
   "metadata": {},
   "source": []
  },
  {
   "cell_type": "code",
   "execution_count": null,
   "id": "cb07678b",
   "metadata": {},
   "outputs": [],
   "source": [
    "#B01  - Coastal aerosol\n",
    "#B02  - Blue                            -> #1 (R10m)\n",
    "#B03  - Green                           -> #2 (R10m)\n",
    "#B04  - Red                             -> #3 (R10m)\n",
    "#B05  - Vegetation Red Edge (µm 0.705)  -> #4 (R20m)\n",
    "#B06  - Vegetation Red Edge (µm 0.740)\n",
    "#B07  - Vegetation Red Edge (µm 0.783)\n",
    "#B08  - NIR                             -> #5 (R10m)\n",
    "#B08A - Vegetation Red Edge (µm 0.865)  -> #6 (R20m)\n",
    "#B09  - Water vapour\n",
    "#B10 - SWIR - Cirrus\n",
    "#B11 - SWIR (µm 1.610)                  -> #7 (R20m)\n",
    "#B12 - SWIR (µm 2.190)                  -> #8 (R20m)"
   ]
  },
  {
   "cell_type": "code",
   "execution_count": null,
   "id": "3956dc26",
   "metadata": {},
   "outputs": [],
   "source": [
    "before = NDVI(rasterio.open(tiff_list[0]))\n",
    "after = NDVI(rasterio.open(tiff_list[1]))"
   ]
  },
  {
   "cell_type": "code",
   "execution_count": null,
   "id": "808b6a6e",
   "metadata": {},
   "outputs": [],
   "source": [
    "p2, p98 = 0, 1\n",
    "fig, ax = plt.subplots(1,2, figsize=(15, 8))\n",
    "show(exposure.rescale_intensity(before, in_range=(p2, p98)), ax=ax[0], cmap='coolwarm_r')\n",
    "show(exposure.rescale_intensity(after, in_range=(p2, p98)), ax=ax[1], cmap='coolwarm_r')\n",
    "plt.show()"
   ]
  },
  {
   "cell_type": "raw",
   "id": "3d5d9501",
   "metadata": {},
   "source": []
  }
 ],
 "metadata": {
  "kernelspec": {
   "display_name": "Python 3 (ipykernel)",
   "language": "python",
   "name": "python3"
  },
  "language_info": {
   "codemirror_mode": {
    "name": "ipython",
    "version": 3
   },
   "file_extension": ".py",
   "mimetype": "text/x-python",
   "name": "python",
   "nbconvert_exporter": "python",
   "pygments_lexer": "ipython3",
   "version": "3.9.13"
  }
 },
 "nbformat": 4,
 "nbformat_minor": 5
}
