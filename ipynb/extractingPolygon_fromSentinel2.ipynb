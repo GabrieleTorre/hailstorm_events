{
 "cells": [
  {
   "cell_type": "code",
   "execution_count": null,
   "id": "84b2b5d9",
   "metadata": {},
   "outputs": [],
   "source": [
    "from tiff_utils import *\n",
    "\n",
    "import matplotlib.pyplot as plt\n",
    "from rasterio.plot import show\n",
    "from glob import glob\n",
    "import pandas as pd\n",
    "import numpy as np\n",
    "import rasterio\n",
    "import os"
   ]
  },
  {
   "cell_type": "code",
   "execution_count": null,
   "id": "afd4f1b6",
   "metadata": {},
   "outputs": [],
   "source": [
    "src_root_data_dir = '/Users/beppe/Projects/AgriTech/Sentinel-2/2021/'  # Sentinel2 data folder\n",
    "tiff_root_data_dir = '/Users/beppe/Projects/AgriTech/TiffData/2021/'  # output data folder\n",
    "\n",
    "bands = [\"B02\", \"B03\", \"B04\", \"B05\", \"B08\", \"B8A\", \"B11\", \"B12\"]    # definire le bande che si vogliono utilizzare\n",
    "resolutions = [\"R10m\", \"R10m\", \"R10m\", \"R20m\", \"R10m\", \"R20m\", \"R20m\", \"R20m\"] # e la relativa risoluzione\n",
    "bands_and_resolutions = list(zip(bands, resolutions))\n",
    "\n",
    "target_dim = (10980, 10980)"
   ]
  },
  {
   "cell_type": "code",
   "execution_count": null,
   "id": "fe07fe1b",
   "metadata": {},
   "outputs": [],
   "source": [
    "my_points = [\n",
    "    (45.10, 10.98),\n",
    "    (45.10, 11.14),\n",
    "    (44.99, 11.14),\n",
    "    (44.99, 10.98)\n",
    "]"
   ]
  },
  {
   "cell_type": "code",
   "execution_count": null,
   "id": "0e872f89",
   "metadata": {},
   "outputs": [],
   "source": [
    "my_poly = get_test_polygon(my_points)"
   ]
  },
  {
   "cell_type": "code",
   "execution_count": null,
   "id": "47dd0dc2",
   "metadata": {},
   "outputs": [],
   "source": [
    "src_data_dirs = []\n",
    "# per ogni giorno a disposizione individua il path in cui recuperare i dati\n",
    "#for x in os.listdir(src_root_data_dir):\n",
    "for x in glob(os.path.join(src_root_data_dir, '*')):\n",
    "    # date = x.split('/')[-1].split(\"_\")[2].split(\"T\")[0]\n",
    "    name = x.split('/')[-1].split(\".\")[0]\n",
    "    src_data_dir = glob(os.path.join(x, \"GRANULE/*/IMG_DATA\"))[0]\n",
    "    src_data_dirs.append((name, src_data_dir))\n",
    "\n",
    "src_data_dirs = sorted(src_data_dirs, key=lambda x: x[0])"
   ]
  },
  {
   "cell_type": "raw",
   "id": "23da422f",
   "metadata": {},
   "source": [
    "src_data_dirs"
   ]
  },
  {
   "cell_type": "raw",
   "id": "5292166e",
   "metadata": {},
   "source": []
  },
  {
   "cell_type": "code",
   "execution_count": null,
   "id": "ab54723b",
   "metadata": {},
   "outputs": [],
   "source": [
    "for date, src_data_dir in src_data_dirs:\n",
    "    tiff_file = os.path.join(tiff_root_data_dir, date + \".tiff\")\n",
    "    \n",
    "    if os.path.exists(tiff_file):\n",
    "        continue\n",
    "    \n",
    "    tiff_f = None\n",
    "    \n",
    "    for i, (band, resolution) in enumerate(bands_and_resolutions, start=1):\n",
    "        band_file = glob(os.path.join(src_data_dir, resolution, \"*_\" + band + \"_*.jp2\"))[0]\n",
    "        \n",
    "        band_f = rasterio.open(band_file, driver=\"JP2OpenJPEG\")\n",
    "        band_data = band_f.read(1)\n",
    "\n",
    "        if band_data.shape[0] < target_dim[0] and band_data.shape[1] < target_dim[1]:\n",
    "            print(\"Extrapolating\", band_data.shape, \"to\", target_dim)\n",
    "            band_data = extrapolate(band_data, target_dim).astype(band_f.dtypes[0])\n",
    "            \n",
    "        if tiff_f is None:  \n",
    "            profile = band_f.profile\n",
    "            profile.update(driver=\"Gtiff\", count=len(bands_and_resolutions))\n",
    "            tiff_f = MemoryFile().open(**profile)\n",
    "            \n",
    "        print(\"Writing band {} for date {}\".format(band, date))\n",
    "        tiff_f.write(band_data, i)\n",
    "        \n",
    "        band_f.close()\n",
    "        \n",
    "        \n",
    "    tiff_f_cropped = crop_memory_tiff_file(tiff_f, [my_poly], crop=True)\n",
    "    \n",
    "    tiff_f.close()\n",
    "    tiff_f = None\n",
    "\n",
    "    with rasterio.open(tiff_file, \"w\", **tiff_f_cropped.profile) as f:\n",
    "        f.write(tiff_f_cropped.read())\n",
    "        \n",
    "    tiff_f_cropped.close()"
   ]
  },
  {
   "cell_type": "raw",
   "id": "016587ea",
   "metadata": {},
   "source": []
  },
  {
   "cell_type": "code",
   "execution_count": null,
   "id": "40ab257e",
   "metadata": {},
   "outputs": [],
   "source": [
    "aux = glob(tiff_root_data_dir + '/*')\n",
    "aux"
   ]
  },
  {
   "cell_type": "code",
   "execution_count": null,
   "id": "2eb5b52d",
   "metadata": {},
   "outputs": [],
   "source": [
    "image1 = rgb_from_tiff(aux[1])\n",
    "image2 = rgb_from_tiff(aux[4])"
   ]
  },
  {
   "cell_type": "code",
   "execution_count": null,
   "id": "dca43fbc",
   "metadata": {},
   "outputs": [],
   "source": [
    "fig, ax = plt.subplots(1, 2, figsize=(15, 8))\n",
    "show(image1, ax=ax[0], cmap='coolwarm_r')\n",
    "show(image2, ax=ax[1], cmap='coolwarm_r')\n",
    "plt.show()"
   ]
  },
  {
   "cell_type": "code",
   "execution_count": null,
   "id": "3086e7b9",
   "metadata": {},
   "outputs": [],
   "source": []
  },
  {
   "cell_type": "raw",
   "id": "172cae23",
   "metadata": {},
   "source": []
  }
 ],
 "metadata": {
  "kernelspec": {
   "display_name": "Python 3 (ipykernel)",
   "language": "python",
   "name": "python3"
  },
  "language_info": {
   "codemirror_mode": {
    "name": "ipython",
    "version": 3
   },
   "file_extension": ".py",
   "mimetype": "text/x-python",
   "name": "python",
   "nbconvert_exporter": "python",
   "pygments_lexer": "ipython3",
   "version": "3.9.13"
  }
 },
 "nbformat": 4,
 "nbformat_minor": 5
}
