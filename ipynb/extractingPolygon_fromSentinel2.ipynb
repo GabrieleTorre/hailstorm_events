{
 "cells": [
  {
   "cell_type": "code",
   "execution_count": null,
   "id": "84b2b5d9",
   "metadata": {},
   "outputs": [],
   "source": [
    "from scipy.interpolate import RectBivariateSpline\n",
    "from dms2dec.dms_convert import dms2dec\n",
    "from shapely.geometry import Polygon\n",
    "from rasterio.io import MemoryFile\n",
    "from shapely.ops import transform\n",
    "from rasterio.plot import show\n",
    "from rasterio.mask import mask\n",
    "from skimage import exposure\n",
    "from rasterio import plot\n",
    "from glob import glob\n",
    "import numpy as np\n",
    "import rasterio\n",
    "import pyproj\n",
    "import os\n",
    "\n",
    "import matplotlib.pyplot as plt"
   ]
  },
  {
   "cell_type": "code",
   "execution_count": null,
   "id": "32d798fb",
   "metadata": {},
   "outputs": [],
   "source": [
    "def reproject(polygons, proj_from, proj_to):\n",
    "    proj_from = pyproj.Proj(proj_from)\n",
    "    proj_to = pyproj.Proj(proj_to)\n",
    "    \n",
    "    projection = pyproj.Transformer.from_proj(proj_from, proj_to)\n",
    "    return [transform(projection.transform, p) for p in polygons]"
   ]
  },
  {
   "cell_type": "code",
   "execution_count": null,
   "id": "c28969e3",
   "metadata": {},
   "outputs": [],
   "source": [
    "def crop_memory_tiff_file(mem_file, polygons, crop):\n",
    "    polygons = reproject(polygons, \"EPSG:4326\", mem_file.crs)  # \"EPSG:4326\"\n",
    "    result_image, result_transform = mask(mem_file, polygons, crop=crop)\n",
    "    \n",
    "    profile = mem_file.profile\n",
    "    profile.update(width=result_image.shape[1], \n",
    "                   height=result_image.shape[2], \n",
    "                   transform=result_transform)\n",
    "\n",
    "    result_f = MemoryFile().open(**profile)\n",
    "    result_f.write(result_image)\n",
    "    \n",
    "    return result_f"
   ]
  },
  {
   "cell_type": "code",
   "execution_count": null,
   "id": "02daa5ac",
   "metadata": {},
   "outputs": [],
   "source": [
    "def extrapolate(arr, target_dim):\n",
    "    x = np.array(range(arr.shape[0]))\n",
    "    y = np.array(range(arr.shape[1]))\n",
    "    z = arr\n",
    "    xx = np.linspace(x.min(), x.max(), target_dim[0])\n",
    "    yy = np.linspace(y.min(), y.max(), target_dim[1])\n",
    "\n",
    "    new_kernel = RectBivariateSpline(x, y, z, kx=2, ky=2)\n",
    "    result = new_kernel(xx, yy)\n",
    "\n",
    "    return result"
   ]
  },
  {
   "cell_type": "code",
   "execution_count": null,
   "id": "aa6187b6",
   "metadata": {},
   "outputs": [],
   "source": [
    "def get_test_polygon(swap_coordinates=False):\n",
    "    my_points = [\n",
    "        (dms2dec('''44°37'16\"N'''), dms2dec('''8°34'54\"E''')),\n",
    "        (dms2dec('''44°37'16\"N'''), dms2dec('''8°36'26\"E''')),\n",
    "        (dms2dec('''44°35'49\"N'''), dms2dec('''8°36'26\"E''')),\n",
    "        (dms2dec('''44°35'49\"N'''), dms2dec('''8°34'54\"E'''))\n",
    "    ]\n",
    "    \n",
    "    # Copernicus hub likes polygons in lng/lat format\n",
    "    return Polygon([(y, x) if swap_coordinates else (x, y) for x, y in my_points])"
   ]
  },
  {
   "cell_type": "raw",
   "id": "e031beb2",
   "metadata": {},
   "source": []
  },
  {
   "cell_type": "code",
   "execution_count": null,
   "id": "afd4f1b6",
   "metadata": {},
   "outputs": [],
   "source": [
    "src_root_data_dir = # Sentinel2 data folder\n",
    "tiff_root_data_dir = # output data folder\n",
    "\n",
    "bands = [\"B02\", \"B03\", \"B04\", \"B08\", \"B8A\", \"B11\", \"B12\"]              # definire le bande che si vogliono utilizzare\n",
    "resolutions = [\"R10m\", \"R10m\", \"R10m\", \"R10m\", \"R20m\", \"R20m\", \"R20m\"] # e la relativa risoluzione\n",
    "bands_and_resolutions = list(zip(bands, resolutions))\n",
    "\n",
    "target_dim = (10980, 10980)"
   ]
  },
  {
   "cell_type": "code",
   "execution_count": null,
   "id": "4a7d9f74",
   "metadata": {},
   "outputs": [],
   "source": [
    "src_data_dirs = []"
   ]
  },
  {
   "cell_type": "code",
   "execution_count": null,
   "id": "47dd0dc2",
   "metadata": {},
   "outputs": [],
   "source": [
    "# per ogni giorno a disposizione individua il path in cui recuperare i dati\n",
    "for x in os.listdir(src_root_data_dir):\n",
    "    date = x.split(\"_\")[2].split(\"T\")[0]\n",
    "    src_data_dir = glob(os.path.join(src_root_data_dir, x, \"GRANULE/*/IMG_DATA\"))[0]\n",
    "    src_data_dirs.append((date, src_data_dir))\n",
    "\n",
    "src_data_dirs = sorted(src_data_dirs, key=lambda x: x[0])"
   ]
  },
  {
   "cell_type": "raw",
   "id": "5292166e",
   "metadata": {},
   "source": []
  },
  {
   "cell_type": "code",
   "execution_count": null,
   "id": "ab54723b",
   "metadata": {},
   "outputs": [],
   "source": [
    "for date, src_data_dir in src_data_dirs:\n",
    "    tiff_file = os.path.join(tiff_root_data_dir, date + \".tiff\")\n",
    "    \n",
    "    if os.path.exists(tiff_file):\n",
    "        continue\n",
    "    \n",
    "    tiff_f = None\n",
    "    \n",
    "    for i, (band, resolution) in enumerate(bands_and_resolutions, start=1):\n",
    "        band_file = glob(os.path.join(src_data_dir, resolution, \"*_\" + band + \"_*.jp2\"))[0]\n",
    "        \n",
    "        band_f = rasterio.open(band_file, driver=\"JP2OpenJPEG\")\n",
    "        band_data = band_f.read(1)\n",
    "\n",
    "        if band_data.shape[0] < target_dim[0] and band_data.shape[1] < target_dim[1]:\n",
    "            print(\"Extrapolating\", band_data.shape, \"to\", target_dim)\n",
    "            band_data = extrapolate(band_data, target_dim).astype(band_f.dtypes[0])\n",
    "            \n",
    "        if tiff_f is None:  \n",
    "            profile = band_f.profile\n",
    "            profile.update(driver=\"Gtiff\", count=len(bands_and_resolutions))\n",
    "            tiff_f = MemoryFile().open(**profile)\n",
    "            \n",
    "        print(\"Writing band {} for date {}\".format(band, date))\n",
    "        tiff_f.write(band_data, i)\n",
    "        \n",
    "        band_f.close()\n",
    "        \n",
    "        \n",
    "    tiff_f_cropped = crop_memory_tiff_file(tiff_f, [get_test_polygon()], crop=True)\n",
    "    \n",
    "    tiff_f.close()\n",
    "    tiff_f = None\n",
    "\n",
    "    with rasterio.open(tiff_file, \"w\", **tiff_f_cropped.profile) as f:\n",
    "        f.write(tiff_f_cropped.read())\n",
    "        \n",
    "    tiff_f_cropped.close()"
   ]
  },
  {
   "cell_type": "raw",
   "id": "016587ea",
   "metadata": {},
   "source": []
  },
  {
   "cell_type": "code",
   "execution_count": null,
   "id": "40ab257e",
   "metadata": {},
   "outputs": [],
   "source": [
    "glob(tiff_root_data_dir + '/*')"
   ]
  },
  {
   "cell_type": "code",
   "execution_count": null,
   "id": "dc393aae",
   "metadata": {},
   "outputs": [],
   "source": [
    "img = rasterio.open('..your tiff file..')"
   ]
  },
  {
   "cell_type": "raw",
   "id": "9632af3e",
   "metadata": {},
   "source": []
  },
  {
   "cell_type": "code",
   "execution_count": null,
   "id": "c02b234a",
   "metadata": {},
   "outputs": [],
   "source": [
    "# https://gis.stackexchange.com/questions/341809/merging-sentinel-2-rgb-bands-with-rasterio#355077\n",
    "image = np.array([img.read(3), img.read(2), img.read(1)]).transpose(1,2,0)\n",
    "p2, p98 = np.percentile(image, (2,98))\n",
    "image = exposure.rescale_intensity(image, in_range=(p2, p98)) / 100000"
   ]
  },
  {
   "cell_type": "code",
   "execution_count": null,
   "id": "c6133b95",
   "metadata": {},
   "outputs": [],
   "source": [
    "fig, ax = plt.subplots(1, figsize=(10, 8))\n",
    "show(image.transpose(2,0,1), transform=img.transform, ax=ax, cmap='coolwarm_r')\n",
    "plt.show()"
   ]
  },
  {
   "cell_type": "code",
   "execution_count": null,
   "id": "6ac0667d",
   "metadata": {},
   "outputs": [],
   "source": []
  }
 ],
 "metadata": {
  "kernelspec": {
   "display_name": "Python 3 (ipykernel)",
   "language": "python",
   "name": "python3"
  },
  "language_info": {
   "codemirror_mode": {
    "name": "ipython",
    "version": 3
   },
   "file_extension": ".py",
   "mimetype": "text/x-python",
   "name": "python",
   "nbconvert_exporter": "python",
   "pygments_lexer": "ipython3",
   "version": "3.8.10"
  }
 },
 "nbformat": 4,
 "nbformat_minor": 5
}
